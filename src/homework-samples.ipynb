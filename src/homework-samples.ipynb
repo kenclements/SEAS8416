{
 "cells": [
  {
   "cell_type": "markdown",
   "metadata": {},
   "source": [
    "List Sorting\n",
    "Problem: Ask the user to input a list of numbers separated by spaces. Convert this into a list of integers and sort it in ascending order. Print the sorted list.\n"
   ]
  },
  {
   "cell_type": "code",
   "execution_count": 20,
   "metadata": {},
   "outputs": [
    {
     "name": "stdout",
     "output_type": "stream",
     "text": [
      "4 2 7 9\n"
     ]
    }
   ],
   "source": [
    "list1 = input(\"input numbers\")\n",
    "print(list1)"
   ]
  },
  {
   "cell_type": "code",
   "execution_count": 21,
   "metadata": {},
   "outputs": [
    {
     "name": "stdout",
     "output_type": "stream",
     "text": [
      "[2, 4, 7, 9]\n"
     ]
    }
   ],
   "source": [
    "list2 = []\n",
    "for i in list1:\n",
    "    if i != \" \":\n",
    "        list2.append(int(i))\n",
    "list2.sort()\n",
    "print(list2)"
   ]
  },
  {
   "cell_type": "markdown",
   "metadata": {},
   "source": [
    "Temperature Conversion\n",
    "Problem: Write a program that converts a temperature from Fahrenheit to Celsius. Prompt the user for the temperature in Fahrenheit, then output the temperature in Celsius. Formula:\n",
    "Celsius=5/9*(Fahrenheit−32)\n"
   ]
  },
  {
   "cell_type": "code",
   "execution_count": 22,
   "metadata": {},
   "outputs": [],
   "source": [
    "def conv_funct(f) -> float:\n",
    "    return (f-32)*(5/9)"
   ]
  },
  {
   "cell_type": "code",
   "execution_count": 27,
   "metadata": {},
   "outputs": [
    {
     "data": {
      "text/plain": [
       "100.0"
      ]
     },
     "execution_count": 27,
     "metadata": {},
     "output_type": "execute_result"
    }
   ],
   "source": [
    "conv_funct(212)"
   ]
  },
  {
   "cell_type": "markdown",
   "metadata": {},
   "source": [
    "Simple Calculator\n",
    "Problem: Write a simple calculator program that takes two numbers from the user and performs addition, subtraction, multiplication, and division. Display the results for each operation.\n"
   ]
  },
  {
   "cell_type": "code",
   "execution_count": 33,
   "metadata": {},
   "outputs": [],
   "source": [
    "def calc_funct(i, j, op):\n",
    "    try:\n",
    "        i = float(i)\n",
    "        j = float(j)\n",
    "        if (op=='*'):\n",
    "            return i*j\n",
    "    except:\n",
    "        print(\"There was a problem with input\")"
   ]
  },
  {
   "cell_type": "code",
   "execution_count": 34,
   "metadata": {},
   "outputs": [
    {
     "name": "stdout",
     "output_type": "stream",
     "text": [
      "There was a problem with input\n"
     ]
    }
   ],
   "source": [
    "x = input(\"enter first number\")\n",
    "op = input(\"enter operation\")\n",
    "y = input(\"enter second number\")\n",
    "calc_funct(x, y, op)"
   ]
  },
  {
   "cell_type": "markdown",
   "metadata": {},
   "source": [
    "Guess the Number Game\n",
    "Problem: Write a program that generates a random number between 1 and 100 and then asks the user to guess it. The program should tell the user whether their guess is too high, too low, or correct.\n"
   ]
  },
  {
   "cell_type": "code",
   "execution_count": null,
   "metadata": {},
   "outputs": [],
   "source": [
    "import random"
   ]
  },
  {
   "cell_type": "code",
   "execution_count": 39,
   "metadata": {},
   "outputs": [
    {
     "name": "stdout",
     "output_type": "stream",
     "text": [
      "You are too low\n",
      "You are too low\n",
      "You are too high\n",
      "You are too high\n",
      "You are too low\n",
      "You are too low\n",
      "You are too low\n",
      "You got it!!!, it took you 7 tries\n"
     ]
    }
   ],
   "source": [
    "guess = 0\n",
    "guess_count = 0\n",
    "random_number = random.randint(1, 100)\n",
    "while(random_number != guess):\n",
    "    guess = input(\"guess a number from 1 to 100\")\n",
    "    guess = int(guess)\n",
    "    if guess == random_number:\n",
    "        print(f\"You got it!!!, it took you {guess_count} tries\")\n",
    "    elif guess < random_number:\n",
    "        print(\"You are too low\")\n",
    "        guess_count += 1\n",
    "    else:\n",
    "        print(\"You are too high\")\n",
    "        guess_count += 1"
   ]
  },
  {
   "cell_type": "markdown",
   "metadata": {},
   "source": [
    "Bank Account Class\n",
    "Problem Statement:\n",
    "\n",
    "Create a class called BankAccount that represents a simple bank account. The class should have the following methods:\n",
    "\n",
    "__init__(self, account_holder, balance=0.0): This is the initializer method. It should initialize the account holder's name and an initial balance (default is 0.0).\n",
    "\n",
    "deposit(self, amount): This method should add the specified amount to the balance. It should also check if the amount is positive; if not, print an error message.\n",
    "\n",
    "withdraw(self, amount): This method should subtract the specified amount from the balance if there are sufficient funds. If the balance is insufficient, print an error message.\n",
    "\n",
    "get_balance(self): This method should return the current balance.\n",
    "\n",
    "__str__(self): This method should return a string representation of the account showing the account holder's name and current balance."
   ]
  },
  {
   "cell_type": "code",
   "execution_count": 40,
   "metadata": {},
   "outputs": [
    {
     "name": "stdout",
     "output_type": "stream",
     "text": [
      "$50 deposited. New balance: $150\n",
      "$30 withdrawn. New balance: $120\n",
      "Balance: 120\n",
      "Account Holder: Alice\n",
      "Balance: $120\n"
     ]
    }
   ],
   "source": [
    "class BankAccount:\n",
    "    def __init__(self, account_holder, balance=0.0):\n",
    "        self.account_holder = account_holder\n",
    "        self.balance = balance\n",
    "\n",
    "    def deposit(self, amount):\n",
    "        if amount > 0:\n",
    "            self.balance += amount\n",
    "            print(f\"${amount} deposited. New balance: ${self.balance}\")\n",
    "        else:\n",
    "            print(\"Deposit amount must be positive.\")\n",
    "\n",
    "    def withdraw(self, amount):\n",
    "        if amount > self.balance:\n",
    "            print(\"Insufficient funds.\")\n",
    "        elif amount <= 0:\n",
    "            print(\"Withdrawal amount must be positive.\")\n",
    "        else:\n",
    "            self.balance -= amount\n",
    "            print(f\"${amount} withdrawn. New balance: ${self.balance}\")\n",
    "\n",
    "    def get_balance(self):\n",
    "        return self.balance\n",
    "\n",
    "    def __str__(self):\n",
    "        return f\"Account Holder: {self.account_holder}\\nBalance: ${self.balance}\"\n",
    "\n",
    "\n",
    "account = BankAccount(\"Alice\", 100)\n",
    "account.deposit(50)\n",
    "account.withdraw(30)\n",
    "print(\"Balance:\", account.get_balance())\n",
    "print(account)"
   ]
  },
  {
   "cell_type": "code",
   "execution_count": null,
   "metadata": {},
   "outputs": [],
   "source": []
  }
 ],
 "metadata": {
  "kernelspec": {
   "display_name": "SEAS8416",
   "language": "python",
   "name": "python3"
  },
  "language_info": {
   "codemirror_mode": {
    "name": "ipython",
    "version": 3
   },
   "file_extension": ".py",
   "mimetype": "text/x-python",
   "name": "python",
   "nbconvert_exporter": "python",
   "pygments_lexer": "ipython3",
   "version": "3.12.7"
  }
 },
 "nbformat": 4,
 "nbformat_minor": 2
}
