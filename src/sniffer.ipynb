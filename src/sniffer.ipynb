{
 "cells": [
  {
   "cell_type": "code",
   "execution_count": null,
   "metadata": {},
   "outputs": [
    {
     "name": "stdout",
     "output_type": "stream",
     "text": [
      "Starting packet sniffing...\n",
      "IP Packet: 20.189.173.5 -> 192.168.1.14\n",
      "TCP Packet: 20.189.173.5:443 -> 192.168.1.14:51155\n",
      "IP Packet: 20.189.173.5 -> 192.168.1.14\n",
      "TCP Packet: 20.189.173.5:443 -> 192.168.1.14:51155\n",
      "IP Packet: 20.189.173.5 -> 192.168.1.14\n",
      "TCP Packet: 20.189.173.5:443 -> 192.168.1.14:51155\n",
      "IP Packet: 20.189.173.5 -> 192.168.1.14\n",
      "TCP Packet: 20.189.173.5:443 -> 192.168.1.14:51155\n",
      "IP Packet: 192.168.1.14 -> 20.189.173.5\n",
      "TCP Packet: 192.168.1.14:51155 -> 20.189.173.5:443\n",
      "IP Packet: 192.168.1.14 -> 20.189.173.5\n",
      "TCP Packet: 192.168.1.14:51155 -> 20.189.173.5:443\n",
      "IP Packet: 192.168.1.14 -> 199.232.37.44\n",
      "TCP Packet: 192.168.1.14:51019 -> 199.232.37.44:443\n",
      "IP Packet: 199.232.37.44 -> 192.168.1.14\n",
      "TCP Packet: 199.232.37.44:443 -> 192.168.1.14:51019\n",
      "IP Packet: 192.168.1.14 -> 107.23.81.166\n",
      "TCP Packet: 192.168.1.14:51102 -> 107.23.81.166:443\n",
      "IP Packet: 107.23.81.166 -> 192.168.1.14\n",
      "TCP Packet: 107.23.81.166:443 -> 192.168.1.14:51102\n"
     ]
    },
    {
     "data": {
      "text/plain": [
       "<Sniffed: TCP:10 UDP:0 ICMP:0 Other:0>"
      ]
     },
     "execution_count": 4,
     "metadata": {},
     "output_type": "execute_result"
    }
   ],
   "source": [
    "#a change\n",
    "\n",
    "from scapy.all import sniff, Raw, TCP, UDP, ICMP, IP\n",
    "\n",
    "# Define a function to process each packet\n",
    "def packet_callback(packet):\n",
    "    # Check if the packet has an IP layer\n",
    "    if packet.haslayer('IP'):\n",
    "        src_ip = packet['IP'].src\n",
    "        dst_ip = packet['IP'].dst\n",
    "        print(f\"IP Packet: {src_ip} -> {dst_ip}\" )\n",
    "        \n",
    "        # Check if the packet also has a TCP layer\n",
    "        if packet.haslayer('TCP'):\n",
    "            src_port = packet['TCP'].sport\n",
    "            dst_port = packet['TCP'].dport\n",
    "\n",
    "            tcp_flags = packet['TCP'].flags\n",
    "            \n",
    "            # Check if FIN, URG, and PUSH flags are all set\n",
    "            if \"F\" in tcp_flags and \"U\" in tcp_flags and \"P\" in tcp_flags:\n",
    "                print(\"Christmas Tree Attack detected!\")\n",
    "                print(f\"Packet: {packet.summary()}\")  # Print the packet summary\n",
    "                print(f\"TCP Flags: {tcp_flags}\")\n",
    "\n",
    "            print(f\"TCP Packet: {src_ip}:{src_port} -> {dst_ip}:{dst_port}\")\n",
    "            # # Check if there is a Raw layer (payload) within the TCP layer\n",
    "            # if packet.haslayer(Raw):\n",
    "            #     tcp_payload = packet[Raw].load  # Extract the TCP payload\n",
    "            #     try:\n",
    "            #         # Attempt to decode the payload to make it readable\n",
    "            #         decoded_payload = tcp_payload.decode(errors=\"ignore\")\n",
    "            #         print(\"TCP Payload:\", decoded_payload)\n",
    "            #     except UnicodeDecodeError:\n",
    "            #         # If decoding fails, print the raw bytes\n",
    "            #         print(\"TCP Payload (raw bytes):\", tcp_payload)\n",
    "            # else:\n",
    "            #     print(\"TCP packet without payload\")\n",
    "    else:\n",
    "        print(\"Non-TCP packet\")\n",
    "            \n",
    "        # For other protocols like UDP, ARP, etc., you can add additional handling here\n",
    "\n",
    "# Start sniffing on the network interface\n",
    "print(\"Starting packet sniffing...\")\n",
    "sniff(prn=packet_callback, filter=\"tcp port 443\", count=10)  # capture 10 packets as an example\n"
   ]
  },
  {
   "cell_type": "code",
   "execution_count": null,
   "metadata": {},
   "outputs": [],
   "source": []
  }
 ],
 "metadata": {
  "kernelspec": {
   "display_name": "SEAS8416",
   "language": "python",
   "name": "python3"
  },
  "language_info": {
   "codemirror_mode": {
    "name": "ipython",
    "version": 3
   },
   "file_extension": ".py",
   "mimetype": "text/x-python",
   "name": "python",
   "nbconvert_exporter": "python",
   "pygments_lexer": "ipython3",
   "version": "3.12.7"
  }
 },
 "nbformat": 4,
 "nbformat_minor": 2
}
